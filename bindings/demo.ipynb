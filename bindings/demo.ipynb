{
    "cells": [
        {
            "cell_type": "code",
            "execution_count": null,
            "source": [
                "import nwcpp"
            ],
            "outputs": [],
            "metadata": {}
        },
        {
            "cell_type": "code",
            "execution_count": null,
            "source": [
                "dag = nwcpp.Dataflow()"
            ],
            "outputs": [],
            "metadata": {}
        },
        {
            "cell_type": "code",
            "execution_count": null,
            "source": [
                "dag.clear()\r\n",
                "a = dag.declare_variable('a')\r\n",
                "b = dag.declare_variable('b')\r\n",
                "c = dag.declare_variable('c')\r\n",
                "d = dag.declare_variable('d')\r\n",
                "dag.variables"
            ],
            "outputs": [],
            "metadata": {}
        },
        {
            "cell_type": "code",
            "execution_count": null,
            "source": [
                "sum = dag.add(dag.add(a, b), c)\r\n",
                "avg = dag.div(sum, d)\r\n",
                "result = dag.mul(avg, avg)"
            ],
            "outputs": [],
            "metadata": {}
        },
        {
            "cell_type": "code",
            "execution_count": null,
            "source": [
                "import graphviz\r\n",
                "graphviz.Source(dag.dump_to_graphviz())"
            ],
            "outputs": [],
            "metadata": {}
        },
        {
            "cell_type": "code",
            "execution_count": null,
            "source": [
                "a.assign(10)\r\n",
                "b.assign(20)\r\n",
                "c.assign(30)\r\n",
                "d.assign(3)\r\n"
            ],
            "outputs": [],
            "metadata": {}
        },
        {
            "cell_type": "code",
            "execution_count": null,
            "source": [
                "result.eval()"
            ],
            "outputs": [],
            "metadata": {}
        },
        {
            "cell_type": "code",
            "execution_count": null,
            "source": [
                "for v in dag.variables:\r\n",
                "  if v.has_value:\r\n",
                "    print(f'{v.name} = {v.eval()}')\r\n",
                "  else:\r\n",
                "    print(f'{v.name} is unassigned')\r\n"
            ],
            "outputs": [],
            "metadata": {}
        },
        {
            "cell_type": "code",
            "execution_count": null,
            "source": [
                "# another take, using operator overloading\r\n",
                "avg2 = (a + b + c) / d\r\n",
                "result2 = avg2 * avg2\r\n",
                "\r\n",
                "result2.eval()"
            ],
            "outputs": [],
            "metadata": {}
        },
        {
            "cell_type": "code",
            "execution_count": null,
            "source": [],
            "outputs": [],
            "metadata": {}
        }
    ],
    "metadata": {
        "orig_nbformat": 4,
        "language_info": {
            "name": "python",
            "version": "3.6.13",
            "mimetype": "text/x-python",
            "codemirror_mode": {
                "name": "ipython",
                "version": 3
            },
            "pygments_lexer": "ipython3",
            "nbconvert_exporter": "python",
            "file_extension": ".py"
        },
        "kernelspec": {
            "name": "python3",
            "display_name": "Python 3.6.13 64-bit ('nwcpp': conda)"
        },
        "interpreter": {
            "hash": "78f0af4c477d54f789a006333f2ad7c3f42b3b6a01d9dc240705b342b2867715"
        }
    },
    "nbformat": 4,
    "nbformat_minor": 2
}